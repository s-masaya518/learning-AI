{
  "nbformat": 4,
  "nbformat_minor": 0,
  "metadata": {
    "colab": {
      "name": "test.ipynb",
      "provenance": [],
      "collapsed_sections": [
        "kzNTU8-CrzXS",
        "Zbfaq4y4vowI",
        "Vj0vQ4eQvtRd",
        "MMj7JFFf0Oak",
        "PKlT27Np8amf",
        "SgEGDxVD9hWV"
      ],
      "include_colab_link": true
    },
    "kernelspec": {
      "name": "python3",
      "display_name": "Python 3"
    }
  },
  "cells": [
    {
      "cell_type": "markdown",
      "metadata": {
        "id": "view-in-github",
        "colab_type": "text"
      },
      "source": [
        "<a href=\"https://colab.research.google.com/github/s-masaya518/learning-AI/blob/master/test.ipynb\" target=\"_parent\"><img src=\"https://colab.research.google.com/assets/colab-badge.svg\" alt=\"Open In Colab\"/></a>"
      ]
    },
    {
      "cell_type": "markdown",
      "metadata": {
        "id": "kzNTU8-CrzXS",
        "colab_type": "text"
      },
      "source": [
        "# 1-5 NumPyによる配列の処理\n",
        "**説明変数: 予測に使う情報**  \n",
        "1. ガクの長さ (sepal length)\n",
        "2. ガクの幅 (sepal width)\n",
        "3. 花弁の長さ (petal length)\n",
        "4. 花弁の幅 (petal width)\n",
        "\n",
        "**目的変数: 予測する情報**  \n",
        "1. setosa → 0\n",
        "2. virginica → 1\n",
        "3. versicolor → 3"
      ]
    },
    {
      "cell_type": "code",
      "metadata": {
        "id": "QXsgzaROp7eP",
        "colab_type": "code",
        "outputId": "69da05d3-1489-467b-d992-afc07257b39b",
        "colab": {
          "base_uri": "https://localhost:8080/",
          "height": 136
        }
      },
      "source": [
        "# scikit-learnライブラリからデータセットを読み込む\n",
        "from sklearn import datasets\n",
        "# irisのデータセットをロードする\n",
        "iris = datasets.load_iris()\n",
        "\n",
        "# 4種類の説明変数の名前を表示する\n",
        "print(iris.feature_names)\n",
        "\n",
        "# 先頭5行の説明変数を表示する\n",
        "print(iris.data[:5])  # [:5] → 先頭から5行\n",
        "\n",
        "# 3行2列目（3番目のデータのガクの幅）の説明変数を表示する\n",
        "print(iris.data[2][1])"
      ],
      "execution_count": 0,
      "outputs": [
        {
          "output_type": "stream",
          "text": [
            "['sepal length (cm)', 'sepal width (cm)', 'petal length (cm)', 'petal width (cm)']\n",
            "[[5.1 3.5 1.4 0.2]\n",
            " [4.9 3.  1.4 0.2]\n",
            " [4.7 3.2 1.3 0.2]\n",
            " [4.6 3.1 1.5 0.2]\n",
            " [5.  3.6 1.4 0.2]]\n",
            "3.2\n"
          ],
          "name": "stdout"
        }
      ]
    },
    {
      "cell_type": "markdown",
      "metadata": {
        "id": "Zbfaq4y4vowI",
        "colab_type": "text"
      },
      "source": [
        "## 演習課題\n",
        "6行目から10行目までの説明変数のデータを表示するプログラムを作成せよ。"
      ]
    },
    {
      "cell_type": "code",
      "metadata": {
        "id": "icLReUfstQ_h",
        "colab_type": "code",
        "outputId": "4bdda9d0-9df2-41c1-c95f-0cba617f8740",
        "colab": {
          "base_uri": "https://localhost:8080/",
          "height": 102
        }
      },
      "source": [
        "# 6行目から10行目までの説明変数を表示する\n",
        "print(iris.data[5:10])"
      ],
      "execution_count": 0,
      "outputs": [
        {
          "output_type": "stream",
          "text": [
            "[[5.4 3.9 1.7 0.4]\n",
            " [4.6 3.4 1.4 0.3]\n",
            " [5.  3.4 1.5 0.2]\n",
            " [4.4 2.9 1.4 0.2]\n",
            " [4.9 3.1 1.5 0.1]]\n"
          ],
          "name": "stdout"
        }
      ]
    },
    {
      "cell_type": "markdown",
      "metadata": {
        "id": "Vj0vQ4eQvtRd",
        "colab_type": "text"
      },
      "source": [
        "## 演習課題\n",
        "6行目から10行目までの説明変数のデータに対して、for文を使って花弁の長さ（3番目の説明変数）だけを1行ずつ表示するプログラムを作成せよ。"
      ]
    },
    {
      "cell_type": "code",
      "metadata": {
        "id": "0U95KBrstKud",
        "colab_type": "code",
        "outputId": "53df32ed-3235-409d-b5be-ada1773ec025",
        "colab": {
          "base_uri": "https://localhost:8080/",
          "height": 102
        }
      },
      "source": [
        "# for文で1行ずつデータを表示する\n",
        "for row in iris.data[5:10]:\n",
        "  print(row[2])"
      ],
      "execution_count": 0,
      "outputs": [
        {
          "output_type": "stream",
          "text": [
            "1.7\n",
            "1.4\n",
            "1.5\n",
            "1.4\n",
            "1.5\n"
          ],
          "name": "stdout"
        }
      ]
    },
    {
      "cell_type": "markdown",
      "metadata": {
        "id": "b2GHgjsdxWKb",
        "colab_type": "text"
      },
      "source": [
        "NumPy特有の便利な書き方"
      ]
    },
    {
      "cell_type": "code",
      "metadata": {
        "id": "0bWV0hfmxcZB",
        "colab_type": "code",
        "outputId": "3b1f7ac8-2da1-492b-93d1-148516e029e7",
        "colab": {
          "base_uri": "https://localhost:8080/",
          "height": 51
        }
      },
      "source": [
        "# 3行2列目(3番目のデータのガクの幅)の説明変数を表示する\n",
        "print(iris.data[2][1])\n",
        "print(iris.data[2, 1])"
      ],
      "execution_count": 0,
      "outputs": [
        {
          "output_type": "stream",
          "text": [
            "3.2\n",
            "3.2\n"
          ],
          "name": "stdout"
        }
      ]
    },
    {
      "cell_type": "markdown",
      "metadata": {
        "id": "ktIKxVw7yAqU",
        "colab_type": "text"
      },
      "source": [
        "「コロン(:)」は、全部みたいな意味"
      ]
    },
    {
      "cell_type": "code",
      "metadata": {
        "id": "8dJKD8JjyHU8",
        "colab_type": "code",
        "outputId": "12cabb09-458d-4e06-ad5d-603f1cdabf12",
        "colab": {
          "base_uri": "https://localhost:8080/",
          "height": 136
        }
      },
      "source": [
        "# 先頭5行だけを取り出した小さいデータセットを作成\n",
        "small_data = iris.data[:5]\n",
        "print(small_data)\n",
        "\n",
        "# 2列目だけを取り出した一次元配列\n",
        "print(small_data[:, 1])\n",
        "# 3行目だけを取り出した一次元配列\n",
        "print(small_data[2, :])"
      ],
      "execution_count": 0,
      "outputs": [
        {
          "output_type": "stream",
          "text": [
            "[[5.1 3.5 1.4 0.2]\n",
            " [4.9 3.  1.4 0.2]\n",
            " [4.7 3.2 1.3 0.2]\n",
            " [4.6 3.1 1.5 0.2]\n",
            " [5.  3.6 1.4 0.2]]\n",
            "[3.5 3.  3.2 3.1 3.6]\n",
            "[4.7 3.2 1.3 0.2]\n"
          ],
          "name": "stdout"
        }
      ]
    },
    {
      "cell_type": "markdown",
      "metadata": {
        "id": "_KA4tkHjzQME",
        "colab_type": "text"
      },
      "source": [
        "## 演習課題\n",
        "11行目から15行目までの小さいデータセットを作り、3列目だけを取り出して表示して、さらに、2行目だけを取り出して表示するプログラムを作成せよ。"
      ]
    },
    {
      "cell_type": "code",
      "metadata": {
        "id": "Wx2x3KllzbTn",
        "colab_type": "code",
        "outputId": "b166588a-88b6-42d1-c387-dd736e0ec3b1",
        "colab": {
          "base_uri": "https://localhost:8080/",
          "height": 51
        }
      },
      "source": [
        "# 11行目から15行目までの小さいデータセットを作成する\n",
        "small_data = iris.data[10:15]\n",
        "\n",
        "# 3列目だけを取り出して表示\n",
        "print(small_data[:, 2])\n",
        "# 2行目だけを取り出して表示\n",
        "print(small_data[1, :])"
      ],
      "execution_count": 0,
      "outputs": [
        {
          "output_type": "stream",
          "text": [
            "[1.5 1.6 1.4 1.1 1.2]\n",
            "[4.8 3.4 1.6 0.2]\n"
          ],
          "name": "stdout"
        }
      ]
    },
    {
      "cell_type": "markdown",
      "metadata": {
        "id": "MMj7JFFf0Oak",
        "colab_type": "text"
      },
      "source": [
        "# 2-1 NumPyによる統計値の計算・列に対する演算\n",
        "次はNumPy特有の書き方だが、これらの操作を全データに対して行うようなことはあまりない。"
      ]
    },
    {
      "cell_type": "code",
      "metadata": {
        "id": "kePspUyy0Uhd",
        "colab_type": "code",
        "outputId": "47d8100b-6edc-4e9e-8d25-6f49aa599dfd",
        "colab": {
          "base_uri": "https://localhost:8080/",
          "height": 238
        }
      },
      "source": [
        "# 先頭5行だけを取り出した小さいデータセットを作成\n",
        "small_data = iris.data[:5]\n",
        "\n",
        "print(small_data)\n",
        "\n",
        "print('行数', len(small_data))\n",
        "print('全データの個数', small_data.size)\n",
        "print('全データの最小値', small_data.min())\n",
        "print('全データの最大値', small_data.max())\n",
        "print('全データの合計値', small_data.sum())\n",
        "print('全データの平均値', small_data.mean())\n",
        "print('全データの分散（二乗の和）', small_data.var())\n",
        "print('全データの標準偏差（分散のルート）', small_data.std())"
      ],
      "execution_count": 0,
      "outputs": [
        {
          "output_type": "stream",
          "text": [
            "[[5.1 3.5 1.4 0.2]\n",
            " [4.9 3.  1.4 0.2]\n",
            " [4.7 3.2 1.3 0.2]\n",
            " [4.6 3.1 1.5 0.2]\n",
            " [5.  3.6 1.4 0.2]]\n",
            "行数 5\n",
            "全データの個数 20\n",
            "全データの最小値 0.2\n",
            "全データの最大値 5.1\n",
            "全データの合計値 48.7\n",
            "全データの平均値 2.435\n",
            "全データの分散（二乗の和） 3.188275\n",
            "全データの標準偏差（分散のルート） 1.7855741373575056\n"
          ],
          "name": "stdout"
        }
      ]
    },
    {
      "cell_type": "markdown",
      "metadata": {
        "id": "_QdcMxHI2dJ7",
        "colab_type": "text"
      },
      "source": [
        "普通は行だけ、列だけのデータを取り出して統計値を計算する。実際には、列だけに対する操作を行うことが多い。  \n",
        "操作対象のデータがどのような情報を持っているのかを確認するのに役立つ。"
      ]
    },
    {
      "cell_type": "code",
      "metadata": {
        "id": "_R82FX9_11-x",
        "colab_type": "code",
        "outputId": "c2d1ed65-3069-4c17-bfde-9467e7af2309",
        "colab": {
          "base_uri": "https://localhost:8080/",
          "height": 238
        }
      },
      "source": [
        "# 先頭5行だけを取り出した小さいデータセットを作成\n",
        "small_data - iris.data[:5]\n",
        "# 2列目だけを取り出す\n",
        "col2 = small_data[:, 1]\n",
        "\n",
        "print(small_data)\n",
        "\n",
        "print('行数', len(col2))\n",
        "print('列データの個数', col2.size)\n",
        "print('列データの最小値', col2.min())\n",
        "print('列データの最大値', col2.max())\n",
        "print('列データの合計値', col2.sum())\n",
        "print('列データの平均値', col2.mean())\n",
        "print('列データの分散（二乗の和）', col2.var())\n",
        "print('列データの標準偏差（分散のルート）', col2.std())\n"
      ],
      "execution_count": 18,
      "outputs": [
        {
          "output_type": "stream",
          "text": [
            "[[5.1 3.5 1.4 0.2]\n",
            " [4.9 3.  1.4 0.2]\n",
            " [4.7 3.2 1.3 0.2]\n",
            " [4.6 3.1 1.5 0.2]\n",
            " [5.  3.6 1.4 0.2]]\n",
            "行数 5\n",
            "列データの個数 5\n",
            "列データの最小値 3.0\n",
            "列データの最大値 3.6\n",
            "列データの合計値 16.4\n",
            "列データの平均値 3.28\n",
            "列データの分散（二乗の和） 0.0536\n",
            "列データの標準偏差（分散のルート） 0.2315167380558045\n"
          ],
          "name": "stdout"
        }
      ]
    },
    {
      "cell_type": "markdown",
      "metadata": {
        "id": "Skrk-8u13Br-",
        "colab_type": "text"
      },
      "source": [
        "各列ごとの統計値を算出"
      ]
    },
    {
      "cell_type": "code",
      "metadata": {
        "id": "8uNtZj0s3KkA",
        "colab_type": "code",
        "colab": {
          "base_uri": "https://localhost:8080/",
          "height": 238
        },
        "outputId": "46f131b5-fab5-4dc7-83b7-abf16ee93c91"
      },
      "source": [
        "# 先頭5行だけを取り出した小さいデータセットを作成\n",
        "small_data = iris.data[:5]\n",
        "\n",
        "print(small_data)\n",
        "\n",
        "print('行数', len(small_data))\n",
        "print('全ごとの個数', small_data.size)\n",
        "print('列ごとの最小値', small_data.min(0))\n",
        "print('列ごとの最大値', small_data.max(0))\n",
        "print('列ごとの合計値', small_data.sum(0))\n",
        "print('列ごとの平均値', small_data.mean(0))\n",
        "print('列ごとの分散（二乗の和）', small_data.var(0))\n",
        "print('列ごとの標準偏差（分散のルート）', small_data.std(0))"
      ],
      "execution_count": 20,
      "outputs": [
        {
          "output_type": "stream",
          "text": [
            "[[5.1 3.5 1.4 0.2]\n",
            " [4.9 3.  1.4 0.2]\n",
            " [4.7 3.2 1.3 0.2]\n",
            " [4.6 3.1 1.5 0.2]\n",
            " [5.  3.6 1.4 0.2]]\n",
            "行数 5\n",
            "全データの個数 20\n",
            "列データの最小値 [4.6 3.  1.3 0.2]\n",
            "列データの最大値 [5.1 3.6 1.5 0.2]\n",
            "列データの合計値 [24.3 16.4  7.   1. ]\n",
            "列データの平均値 [4.86 3.28 1.4  0.2 ]\n",
            "列データの分散（二乗の和） [0.0344 0.0536 0.004  0.    ]\n",
            "列データの標準偏差（分散のルート） [0.18547237 0.23151674 0.06324555 0.        ]\n"
          ],
          "name": "stdout"
        }
      ]
    },
    {
      "cell_type": "markdown",
      "metadata": {
        "colab_type": "text",
        "id": "UjmB4UQi4y3d"
      },
      "source": [
        "## 演習課題\n",
        "iris.data全体から3列目だけを取り出して、各種統計データを計算せよ。"
      ]
    },
    {
      "cell_type": "code",
      "metadata": {
        "id": "feNNB62u5Lqe",
        "colab_type": "code",
        "colab": {
          "base_uri": "https://localhost:8080/",
          "height": 153
        },
        "outputId": "9c4930b0-4be5-43c9-de67-4a5bcb518b80"
      },
      "source": [
        "# 全体から3列目だけを取り出したデータセットを作成\n",
        "col3 = iris.data[:, 2]\n",
        "\n",
        "print('行数', len(col3))\n",
        "print('列データの個数', col3.size)\n",
        "print('列データの最小値', col3.min())\n",
        "print('列データの最大値', col3.max())\n",
        "print('列データの合計値', col3.sum())\n",
        "print('列データの平均値', col3.mean())\n",
        "print('列データの分散（二乗の和）', col3.var())\n",
        "print('列データの標準偏差（分散のルート）', col3.std())"
      ],
      "execution_count": 22,
      "outputs": [
        {
          "output_type": "stream",
          "text": [
            "行数 150\n",
            "列データの個数 150\n",
            "列データの最小値 1.0\n",
            "列データの最大値 6.9\n",
            "列データの合計値 563.7\n",
            "列データの平均値 3.7580000000000005\n",
            "列データの分散（二乗の和） 3.0955026666666665\n",
            "列データの標準偏差（分散のルート） 1.759404065775303\n"
          ],
          "name": "stdout"
        }
      ]
    },
    {
      "cell_type": "markdown",
      "metadata": {
        "id": "LSDugIsR6G0d",
        "colab_type": "text"
      },
      "source": [
        "## Numpyによる列に対する演算"
      ]
    },
    {
      "cell_type": "code",
      "metadata": {
        "id": "crcs_40L6Sku",
        "colab_type": "code",
        "colab": {
          "base_uri": "https://localhost:8080/",
          "height": 272
        },
        "outputId": "73358e67-3e75-4778-dade-8f5fdf87ae03"
      },
      "source": [
        "# 先頭5行だけを取り出した小さいデータセットを作成\n",
        "small_data = iris.data[:5]\n",
        "\n",
        "# オリジナルのデータを表示する\n",
        "print(small_data)\n",
        "# 各データを2で割った結果を表示する\n",
        "print(small_data / 2)\n",
        "\n",
        "# 2列目を取り出して表示する\n",
        "print(small_data[:, 1])\n",
        "# 2列目を取り出して、各データを2で割った結果を表示する\n",
        "print(small_data[:, 1] / 2)\n",
        "# 2列目を取り出して、各データが3.3より大きかどうかを表示する\n",
        "print(small_data[:, 1] > 3.3)\n",
        "# 2列目で3.3より大きいデータの個数を表示する（Trueは1, Falseは0として処理）\n",
        "print((small_data[:, 1] > 3.3).sum())\n",
        "# 2列目で3.3より大きいデータの割合を表示する（Trueは1, Falseは0として処理）\n",
        "print((small_data[:, 1] > 3.3).mean())"
      ],
      "execution_count": 23,
      "outputs": [
        {
          "output_type": "stream",
          "text": [
            "[[5.1 3.5 1.4 0.2]\n",
            " [4.9 3.  1.4 0.2]\n",
            " [4.7 3.2 1.3 0.2]\n",
            " [4.6 3.1 1.5 0.2]\n",
            " [5.  3.6 1.4 0.2]]\n",
            "[[2.55 1.75 0.7  0.1 ]\n",
            " [2.45 1.5  0.7  0.1 ]\n",
            " [2.35 1.6  0.65 0.1 ]\n",
            " [2.3  1.55 0.75 0.1 ]\n",
            " [2.5  1.8  0.7  0.1 ]]\n",
            "[3.5 3.  3.2 3.1 3.6]\n",
            "[1.75 1.5  1.6  1.55 1.8 ]\n",
            "[ True False False False  True]\n",
            "2\n",
            "0.4\n"
          ],
          "name": "stdout"
        }
      ]
    },
    {
      "cell_type": "markdown",
      "metadata": {
        "id": "PKlT27Np8amf",
        "colab_type": "text"
      },
      "source": [
        "## 演習課題\n",
        "全データの3列目について、1より大きいデータの割合を表示するプログラムを作成せよ。"
      ]
    },
    {
      "cell_type": "code",
      "metadata": {
        "id": "5LYViqvy8fCk",
        "colab_type": "code",
        "colab": {
          "base_uri": "https://localhost:8080/",
          "height": 34
        },
        "outputId": "06b3232a-5b6e-4366-e505-5f0a6a5f4080"
      },
      "source": [
        "# 全データ3列目について、1より大きいデータの割合を表示する\n",
        "print((iris.data[:, 2] > 1).mean())"
      ],
      "execution_count": 25,
      "outputs": [
        {
          "output_type": "stream",
          "text": [
            "0.9933333333333333\n"
          ],
          "name": "stdout"
        }
      ]
    },
    {
      "cell_type": "markdown",
      "metadata": {
        "id": "SgEGDxVD9hWV",
        "colab_type": "text"
      },
      "source": [
        "# 2-2 Matplottlibによる散布図の描画\n",
        "目的変数（アヤメの種類を示す値）のデータは、iris.targetに格納されている。\n",
        "- setosa → 0\n",
        "- virginica → 1\n",
        "- versicolor → 2\n"
      ]
    },
    {
      "cell_type": "code",
      "metadata": {
        "id": "mZ6hOxg9-Ozc",
        "colab_type": "code",
        "colab": {
          "base_uri": "https://localhost:8080/",
          "height": 578
        },
        "outputId": "f5484268-a06a-4e2c-c0d4-cabc6c7632b8"
      },
      "source": [
        "# 目的変数を表示してみる\n",
        "print(iris.target)\n",
        "print()\n",
        "\n",
        "# setosa(0)だけがTrueになるよう変形する\n",
        "print(iris.target == 0)\n",
        "print()\n",
        "\n",
        "# 全てのガクの長さのデータを表示する\n",
        "print(iris.data[:, 0])\n",
        "print()\n",
        "\n",
        "# setosaのガクの長さを表示する\n",
        "print(iris.data[iris.target == 0, 0])  # カンマの左右に条件式も記述できる(True, False配列を指定できる)"
      ],
      "execution_count": 27,
      "outputs": [
        {
          "output_type": "stream",
          "text": [
            "[0 0 0 0 0 0 0 0 0 0 0 0 0 0 0 0 0 0 0 0 0 0 0 0 0 0 0 0 0 0 0 0 0 0 0 0 0\n",
            " 0 0 0 0 0 0 0 0 0 0 0 0 0 1 1 1 1 1 1 1 1 1 1 1 1 1 1 1 1 1 1 1 1 1 1 1 1\n",
            " 1 1 1 1 1 1 1 1 1 1 1 1 1 1 1 1 1 1 1 1 1 1 1 1 1 1 2 2 2 2 2 2 2 2 2 2 2\n",
            " 2 2 2 2 2 2 2 2 2 2 2 2 2 2 2 2 2 2 2 2 2 2 2 2 2 2 2 2 2 2 2 2 2 2 2 2 2\n",
            " 2 2]\n",
            "\n",
            "[ True  True  True  True  True  True  True  True  True  True  True  True\n",
            "  True  True  True  True  True  True  True  True  True  True  True  True\n",
            "  True  True  True  True  True  True  True  True  True  True  True  True\n",
            "  True  True  True  True  True  True  True  True  True  True  True  True\n",
            "  True  True False False False False False False False False False False\n",
            " False False False False False False False False False False False False\n",
            " False False False False False False False False False False False False\n",
            " False False False False False False False False False False False False\n",
            " False False False False False False False False False False False False\n",
            " False False False False False False False False False False False False\n",
            " False False False False False False False False False False False False\n",
            " False False False False False False False False False False False False\n",
            " False False False False False False]\n",
            "\n",
            "[5.1 4.9 4.7 4.6 5.  5.4 4.6 5.  4.4 4.9 5.4 4.8 4.8 4.3 5.8 5.7 5.4 5.1\n",
            " 5.7 5.1 5.4 5.1 4.6 5.1 4.8 5.  5.  5.2 5.2 4.7 4.8 5.4 5.2 5.5 4.9 5.\n",
            " 5.5 4.9 4.4 5.1 5.  4.5 4.4 5.  5.1 4.8 5.1 4.6 5.3 5.  7.  6.4 6.9 5.5\n",
            " 6.5 5.7 6.3 4.9 6.6 5.2 5.  5.9 6.  6.1 5.6 6.7 5.6 5.8 6.2 5.6 5.9 6.1\n",
            " 6.3 6.1 6.4 6.6 6.8 6.7 6.  5.7 5.5 5.5 5.8 6.  5.4 6.  6.7 6.3 5.6 5.5\n",
            " 5.5 6.1 5.8 5.  5.6 5.7 5.7 6.2 5.1 5.7 6.3 5.8 7.1 6.3 6.5 7.6 4.9 7.3\n",
            " 6.7 7.2 6.5 6.4 6.8 5.7 5.8 6.4 6.5 7.7 7.7 6.  6.9 5.6 7.7 6.3 6.7 7.2\n",
            " 6.2 6.1 6.4 7.2 7.4 7.9 6.4 6.3 6.1 7.7 6.3 6.4 6.  6.9 6.7 6.9 5.8 6.8\n",
            " 6.7 6.7 6.3 6.5 6.2 5.9]\n",
            "\n",
            "[5.1 4.9 4.7 4.6 5.  5.4 4.6 5.  4.4 4.9 5.4 4.8 4.8 4.3 5.8 5.7 5.4 5.1\n",
            " 5.7 5.1 5.4 5.1 4.6 5.1 4.8 5.  5.  5.2 5.2 4.7 4.8 5.4 5.2 5.5 4.9 5.\n",
            " 5.5 4.9 4.4 5.1 5.  4.5 4.4 5.  5.1 4.8 5.1 4.6 5.3 5. ]\n"
          ],
          "name": "stdout"
        }
      ]
    },
    {
      "cell_type": "code",
      "metadata": {
        "id": "n_zIqiTL_cK6",
        "colab_type": "code",
        "colab": {
          "base_uri": "https://localhost:8080/",
          "height": 280
        },
        "outputId": "92be0022-3217-4551-ebe8-bf1f436ab269"
      },
      "source": [
        "import matplotlib.pyplot as plt\n",
        "features = iris.data\n",
        "\n",
        "# グラフ全体サイズを指定する（横6インチ、縦4インチ）\n",
        "plt.figure(figsize=(6, 4))\n",
        "\n",
        "# 散布図ようにsetosaのガクの長さとガクの幅のデータを入力（赤い三角形）\n",
        "plt.scatter(\n",
        "    features[iris.target == 0, 0],\n",
        "    features[iris.target == 0, 1],\n",
        "    marker='>',\n",
        "    c='red'\n",
        ")\n",
        "\n",
        "# 散布図ようにverginicaのガクの長さとガクの幅のデータを入力（青い丸）\n",
        "plt.scatter(\n",
        "    features[iris.target == 1, 0],\n",
        "    features[iris.target == 1, 1],\n",
        "    marker='o',\n",
        "    c='blue'\n",
        ")\n",
        "\n",
        "# 散布図ようにversicolorのガクの長さとガクの幅のデータを入力（緑のバツ）\n",
        "plt.scatter(\n",
        "    features[iris.target == 2, 0],\n",
        "    features[iris.target == 2, 1],\n",
        "    marker='x',\n",
        "    c='green'\n",
        ")\n",
        "\n",
        "# X, Y軸に名前を表示する\n",
        "plt.xlabel(iris.feature_names[0])\n",
        "plt.ylabel(iris.feature_names[1])\n",
        "\n",
        "# 尺度を自動調整\n",
        "plt.autoscale()\n",
        "\n",
        "# これまでの設定を使ってグラフを描く\n",
        "plt.show()"
      ],
      "execution_count": 37,
      "outputs": [
        {
          "output_type": "display_data",
          "data": {
            "image/png": "[encoded data removed]",
            "text/plain": [
              "<Figure size 432x288 with 1 Axes>"
            ]
          },
          "metadata": {
            "tags": []
          }
        }
      ]
    },
    {
      "cell_type": "markdown",
      "metadata": {
        "id": "OjOUXAsXDL63",
        "colab_type": "text"
      },
      "source": [
        "## 演習課題\n",
        "花弁の長さ（説明変数の3列目）と花弁の幅（説明変数の4列目）を対象として、散布図でアヤメのでデータを可視化するプログラムを作成せよ。"
      ]
    },
    {
      "cell_type": "code",
      "metadata": {
        "id": "glUoyhsCDjDY",
        "colab_type": "code",
        "colab": {
          "base_uri": "https://localhost:8080/",
          "height": 279
        },
        "outputId": "049885ba-7546-48ed-f595-73db0fe573ff"
      },
      "source": [
        "import matplotlib.pylab as plt\n",
        "features = iris.data\n",
        "\n",
        "# グラフのサイズを指定する\n",
        "plt.figure(figsize=(6, 4))\n",
        "\n",
        "# setosaの花弁の長さと幅のデータを入力（赤い三角）\n",
        "plt.scatter(\n",
        "    features[iris.target == 0, 2],\n",
        "    features[iris.target == 0, 3],\n",
        "    marker='>',\n",
        "    c='red'\n",
        ")\n",
        "\n",
        "# verginicaの花弁の長さと幅のデータを入力（青い丸）\n",
        "plt.scatter(\n",
        "    features[iris.target == 1, 2],\n",
        "    features[iris.target == 1, 3],\n",
        "    marker='o',\n",
        "    c='blue'\n",
        ")\n",
        "\n",
        "# virsicolorの花弁の長さと幅のデータを入力（緑のバツ）\n",
        "plt.scatter(\n",
        "    features[iris.target == 2, 2],\n",
        "    features[iris.target == 2, 3],\n",
        "    marker='x',\n",
        "    c='green'\n",
        ")\n",
        "\n",
        "# X, Yラベルを設定\n",
        "plt.xlabel(iris.feature_names[2])\n",
        "plt.ylabel(iris.feature_names[3])\n",
        "\n",
        "# スケールを自動調整\n",
        "plt.autoscale()\n",
        "\n",
        "# 表示\n",
        "plt.show()"
      ],
      "execution_count": 40,
      "outputs": [
        {
          "output_type": "display_data",
          "data": {
            "image/png": "[encoded data removed]",
            "text/plain": [
              "<Figure size 432x288 with 1 Axes>"
            ]
          },
          "metadata": {
            "tags": []
          }
        }
      ]
    },
    {
      "cell_type": "markdown",
      "metadata": {
        "id": "V0hwiucQFuA0",
        "colab_type": "text"
      },
      "source": [
        "Matplotlibによるサブプロットの描画"
      ]
    },
    {
      "cell_type": "code",
      "metadata": {
        "id": "tb-4Su9IFxC0",
        "colab_type": "code",
        "colab": {
          "base_uri": "https://localhost:8080/",
          "height": 300
        },
        "outputId": "09843d1e-3aad-4eb5-db50-9c80c88317a6"
      },
      "source": [
        "# 指定した2種類の列（説明変数）で散布図を描画する関数を定義\n",
        "def plot_scatter(column1, column2):\n",
        "  # 散布図用にsetosaのcolumn1とcolumn2のデータを入力（赤い三角）\n",
        "  plt.scatter(\n",
        "      features[iris.target == 0, column1],\n",
        "      features[iris.target == 0, column2],\n",
        "      marker='>',\n",
        "      c='red'\n",
        "  )\n",
        "\n",
        "  # 散布図用にverginicaのcolumn1とcolumn2のデータを入力（青い丸）\n",
        "  plt.scatter(\n",
        "      features[iris.target == 1, column1],\n",
        "      features[iris.target == 1, column2],\n",
        "      marker='o',\n",
        "      c='blue'\n",
        "  )\n",
        "\n",
        "  # 散布図用にversicolorのcolumn1とcolumn2のデータを入力（緑のバツ）\n",
        "  plt.scatter(\n",
        "      features[iris.target == 2, column1],\n",
        "      features[iris.target == 2, column2],\n",
        "      marker='x',\n",
        "      c='green'\n",
        "  )\n",
        "\n",
        "  # X, Y軸に名前を表示する\n",
        "  plt.xlabel(iris.feature_names[column1])\n",
        "  plt.ylabel(iris.feature_names[column2])\n",
        "\n",
        "  # 尺度を自動調整\n",
        "  plt.autoscale()\n",
        "\n",
        "# グラフ全体のサイズを指定する（横12インチ、縦4インチ）\n",
        "plt.figure(figsize=(12, 4))\n",
        "\n",
        "# サブプロットの個数(1行2列)と1番目のサブプロットであることを設定\n",
        "plt.subplot(1, 2, 1)\n",
        "# 散布図用にガクの長さとガクの幅のデータを入力\n",
        "plot_scatter(0, 1)\n",
        "\n",
        "# サブプロットの個数(1行2列)と2番目のサブプロットであることを設定\n",
        "plt.subplot(1, 2, 2)\n",
        "# 散布図用に花弁の長さとガクの幅のデータを入力\n",
        "plot_scatter(2, 3)\n",
        "\n",
        "# これまでの設定を使ってグラフを描く\n",
        "plt.show()"
      ],
      "execution_count": 41,
      "outputs": [
        {
          "output_type": "display_data",
          "data": {
            "image/png": "[encoded data removed]",
            "text/plain": [
              "<Figure size 864x288 with 2 Axes>"
            ]
          },
          "metadata": {
            "tags": []
          }
        }
      ]
    },
    {
      "cell_type": "markdown",
      "metadata": {
        "id": "ImxK4v4YI03D",
        "colab_type": "text"
      },
      "source": [
        "  NumPyを使って線形に増加する配列を作成して、作成したデータを活用してMatplotlibで直線を引くプログラムを示す。"
      ]
    },
    {
      "cell_type": "code",
      "metadata": {
        "id": "k6vXQQaJFttz",
        "colab_type": "code",
        "colab": {
          "base_uri": "https://localhost:8080/",
          "height": 585
        },
        "outputId": "4bf529c6-3908-485c-e200-c509ddd4bebb"
      },
      "source": [
        "import numpy as np\n",
        "\n",
        "# グラフの全体サイズを指定する\n",
        "plt.figure(figsize=(6, 4))\n",
        "\n",
        "# 散布図用にガクの長さとガクの幅のデータを入力\n",
        "plot_scatter(0, 1)\n",
        "\n",
        "# NumPyで4.5から6.5に線形に増加する配列を作成\n",
        "line_x = np.linspace(4.5, 6.5)\n",
        "print(line_x)\n",
        "# NumPyで2から4.5に線形に増加する配列を作成\n",
        "line_y = np.linspace(2, 4.5)\n",
        "print(line_y)\n",
        "\n",
        "# X軸用のデータとY軸用のデータを入力しえ描画（描画方法は自動決定→今回は直線）\n",
        "plt.plot(line_x, line_y)\n",
        "\n",
        "# これまでの設定を使ってグラフを描く\n",
        "plt.show()"
      ],
      "execution_count": 42,
      "outputs": [
        {
          "output_type": "stream",
          "text": [
            "[4.5        4.54081633 4.58163265 4.62244898 4.66326531 4.70408163\n",
            " 4.74489796 4.78571429 4.82653061 4.86734694 4.90816327 4.94897959\n",
            " 4.98979592 5.03061224 5.07142857 5.1122449  5.15306122 5.19387755\n",
            " 5.23469388 5.2755102  5.31632653 5.35714286 5.39795918 5.43877551\n",
            " 5.47959184 5.52040816 5.56122449 5.60204082 5.64285714 5.68367347\n",
            " 5.7244898  5.76530612 5.80612245 5.84693878 5.8877551  5.92857143\n",
            " 5.96938776 6.01020408 6.05102041 6.09183673 6.13265306 6.17346939\n",
            " 6.21428571 6.25510204 6.29591837 6.33673469 6.37755102 6.41836735\n",
            " 6.45918367 6.5       ]\n",
            "[2.         2.05102041 2.10204082 2.15306122 2.20408163 2.25510204\n",
            " 2.30612245 2.35714286 2.40816327 2.45918367 2.51020408 2.56122449\n",
            " 2.6122449  2.66326531 2.71428571 2.76530612 2.81632653 2.86734694\n",
            " 2.91836735 2.96938776 3.02040816 3.07142857 3.12244898 3.17346939\n",
            " 3.2244898  3.2755102  3.32653061 3.37755102 3.42857143 3.47959184\n",
            " 3.53061224 3.58163265 3.63265306 3.68367347 3.73469388 3.78571429\n",
            " 3.83673469 3.8877551  3.93877551 3.98979592 4.04081633 4.09183673\n",
            " 4.14285714 4.19387755 4.24489796 4.29591837 4.34693878 4.39795918\n",
            " 4.44897959 4.5       ]\n"
          ],
          "name": "stdout"
        },
        {
          "output_type": "display_data",
          "data": {
            "image/png": "[encoded data removed]",
            "text/plain": [
              "<Figure size 432x288 with 1 Axes>"
            ]
          },
          "metadata": {
            "tags": []
          }
        }
      ]
    },
    {
      "cell_type": "markdown",
      "metadata": {
        "id": "qBnh4tywLEZ3",
        "colab_type": "text"
      },
      "source": [
        "# 2-3 pandasを使った統計値の分析\n",
        "pandasは主にデータフレーム（2次元配列）を対象に、NumPyよりも抽象度の高い機能を提供。pandasはNumPyにより実装されている。"
      ]
    },
    {
      "cell_type": "markdown",
      "metadata": {
        "id": "fobk2ytmL1VP",
        "colab_type": "text"
      },
      "source": [
        "irisデータセットのデータをpandasのデータフレームに変換するプログラム\n"
      ]
    },
    {
      "cell_type": "code",
      "metadata": {
        "id": "HhsOrM-OL6Xw",
        "colab_type": "code",
        "colab": {
          "base_uri": "https://localhost:8080/",
          "height": 436
        },
        "outputId": "e3a00675-5518-4b68-d706-624dd2741ce1"
      },
      "source": [
        "from sklearn import datasets\n",
        "import pandas as pd\n",
        "\n",
        "iris = datasets.load_iris()\n",
        "df_iris = pd.DataFrame(iris.data, columns=iris.feature_names)\n",
        "df_iris['target'] = pd.Series(iris.target)\n",
        "df_iris"
      ],
      "execution_count": 43,
      "outputs": [
        {
          "output_type": "execute_result",
          "data": {
            "text/html": [
              "<div>\n",
              "<style scoped>\n",
              "    .dataframe tbody tr th:only-of-type {\n",
              "        vertical-align: middle;\n",
              "    }\n",
              "\n",
              "    .dataframe tbody tr th {\n",
              "        vertical-align: top;\n",
              "    }\n",
              "\n",
              "    .dataframe thead th {\n",
              "        text-align: right;\n",
              "    }\n",
              "</style>\n",
              "<table border=\"1\" class=\"dataframe\">\n",
              "  <thead>\n",
              "    <tr style=\"text-align: right;\">\n",
              "      <th></th>\n",
              "      <th>sepal length (cm)</th>\n",
              "      <th>sepal width (cm)</th>\n",
              "      <th>petal length (cm)</th>\n",
              "      <th>petal width (cm)</th>\n",
              "      <th>target</th>\n",
              "    </tr>\n",
              "  </thead>\n",
              "  <tbody>\n",
              "    <tr>\n",
              "      <th>0</th>\n",
              "      <td>5.1</td>\n",
              "      <td>3.5</td>\n",
              "      <td>1.4</td>\n",
              "      <td>0.2</td>\n",
              "      <td>0</td>\n",
              "    </tr>\n",
              "    <tr>\n",
              "      <th>1</th>\n",
              "      <td>4.9</td>\n",
              "      <td>3.0</td>\n",
              "      <td>1.4</td>\n",
              "      <td>0.2</td>\n",
              "      <td>0</td>\n",
              "    </tr>\n",
              "    <tr>\n",
              "      <th>2</th>\n",
              "      <td>4.7</td>\n",
              "      <td>3.2</td>\n",
              "      <td>1.3</td>\n",
              "      <td>0.2</td>\n",
              "      <td>0</td>\n",
              "    </tr>\n",
              "    <tr>\n",
              "      <th>3</th>\n",
              "      <td>4.6</td>\n",
              "      <td>3.1</td>\n",
              "      <td>1.5</td>\n",
              "      <td>0.2</td>\n",
              "      <td>0</td>\n",
              "    </tr>\n",
              "    <tr>\n",
              "      <th>4</th>\n",
              "      <td>5.0</td>\n",
              "      <td>3.6</td>\n",
              "      <td>1.4</td>\n",
              "      <td>0.2</td>\n",
              "      <td>0</td>\n",
              "    </tr>\n",
              "    <tr>\n",
              "      <th>...</th>\n",
              "      <td>...</td>\n",
              "      <td>...</td>\n",
              "      <td>...</td>\n",
              "      <td>...</td>\n",
              "      <td>...</td>\n",
              "    </tr>\n",
              "    <tr>\n",
              "      <th>145</th>\n",
              "      <td>6.7</td>\n",
              "      <td>3.0</td>\n",
              "      <td>5.2</td>\n",
              "      <td>2.3</td>\n",
              "      <td>2</td>\n",
              "    </tr>\n",
              "    <tr>\n",
              "      <th>146</th>\n",
              "      <td>6.3</td>\n",
              "      <td>2.5</td>\n",
              "      <td>5.0</td>\n",
              "      <td>1.9</td>\n",
              "      <td>2</td>\n",
              "    </tr>\n",
              "    <tr>\n",
              "      <th>147</th>\n",
              "      <td>6.5</td>\n",
              "      <td>3.0</td>\n",
              "      <td>5.2</td>\n",
              "      <td>2.0</td>\n",
              "      <td>2</td>\n",
              "    </tr>\n",
              "    <tr>\n",
              "      <th>148</th>\n",
              "      <td>6.2</td>\n",
              "      <td>3.4</td>\n",
              "      <td>5.4</td>\n",
              "      <td>2.3</td>\n",
              "      <td>2</td>\n",
              "    </tr>\n",
              "    <tr>\n",
              "      <th>149</th>\n",
              "      <td>5.9</td>\n",
              "      <td>3.0</td>\n",
              "      <td>5.1</td>\n",
              "      <td>1.8</td>\n",
              "      <td>2</td>\n",
              "    </tr>\n",
              "  </tbody>\n",
              "</table>\n",
              "<p>150 rows × 5 columns</p>\n",
              "</div>"
            ],
            "text/plain": [
              "     sepal length (cm)  sepal width (cm)  ...  petal width (cm)  target\n",
              "0                  5.1               3.5  ...               0.2       0\n",
              "1                  4.9               3.0  ...               0.2       0\n",
              "2                  4.7               3.2  ...               0.2       0\n",
              "3                  4.6               3.1  ...               0.2       0\n",
              "4                  5.0               3.6  ...               0.2       0\n",
              "..                 ...               ...  ...               ...     ...\n",
              "145                6.7               3.0  ...               2.3       2\n",
              "146                6.3               2.5  ...               1.9       2\n",
              "147                6.5               3.0  ...               2.0       2\n",
              "148                6.2               3.4  ...               2.3       2\n",
              "149                5.9               3.0  ...               1.8       2\n",
              "\n",
              "[150 rows x 5 columns]"
            ]
          },
          "metadata": {
            "tags": []
          },
          "execution_count": 43
        }
      ]
    },
    {
      "cell_type": "code",
      "metadata": {
        "id": "lQU4gtuAMhZ6",
        "colab_type": "code",
        "colab": {
          "base_uri": "https://localhost:8080/",
          "height": 314
        },
        "outputId": "82513267-549a-4ae3-c147-030f2677f61f"
      },
      "source": [
        "df_iris.describe()"
      ],
      "execution_count": 44,
      "outputs": [
        {
          "output_type": "execute_result",
          "data": {
            "text/html": [
              "<div>\n",
              "<style scoped>\n",
              "    .dataframe tbody tr th:only-of-type {\n",
              "        vertical-align: middle;\n",
              "    }\n",
              "\n",
              "    .dataframe tbody tr th {\n",
              "        vertical-align: top;\n",
              "    }\n",
              "\n",
              "    .dataframe thead th {\n",
              "        text-align: right;\n",
              "    }\n",
              "</style>\n",
              "<table border=\"1\" class=\"dataframe\">\n",
              "  <thead>\n",
              "    <tr style=\"text-align: right;\">\n",
              "      <th></th>\n",
              "      <th>sepal length (cm)</th>\n",
              "      <th>sepal width (cm)</th>\n",
              "      <th>petal length (cm)</th>\n",
              "      <th>petal width (cm)</th>\n",
              "      <th>target</th>\n",
              "    </tr>\n",
              "  </thead>\n",
              "  <tbody>\n",
              "    <tr>\n",
              "      <th>count</th>\n",
              "      <td>150.000000</td>\n",
              "      <td>150.000000</td>\n",
              "      <td>150.000000</td>\n",
              "      <td>150.000000</td>\n",
              "      <td>150.000000</td>\n",
              "    </tr>\n",
              "    <tr>\n",
              "      <th>mean</th>\n",
              "      <td>5.843333</td>\n",
              "      <td>3.057333</td>\n",
              "      <td>3.758000</td>\n",
              "      <td>1.199333</td>\n",
              "      <td>1.000000</td>\n",
              "    </tr>\n",
              "    <tr>\n",
              "      <th>std</th>\n",
              "      <td>0.828066</td>\n",
              "      <td>0.435866</td>\n",
              "      <td>1.765298</td>\n",
              "      <td>0.762238</td>\n",
              "      <td>0.819232</td>\n",
              "    </tr>\n",
              "    <tr>\n",
              "      <th>min</th>\n",
              "      <td>4.300000</td>\n",
              "      <td>2.000000</td>\n",
              "      <td>1.000000</td>\n",
              "      <td>0.100000</td>\n",
              "      <td>0.000000</td>\n",
              "    </tr>\n",
              "    <tr>\n",
              "      <th>25%</th>\n",
              "      <td>5.100000</td>\n",
              "      <td>2.800000</td>\n",
              "      <td>1.600000</td>\n",
              "      <td>0.300000</td>\n",
              "      <td>0.000000</td>\n",
              "    </tr>\n",
              "    <tr>\n",
              "      <th>50%</th>\n",
              "      <td>5.800000</td>\n",
              "      <td>3.000000</td>\n",
              "      <td>4.350000</td>\n",
              "      <td>1.300000</td>\n",
              "      <td>1.000000</td>\n",
              "    </tr>\n",
              "    <tr>\n",
              "      <th>75%</th>\n",
              "      <td>6.400000</td>\n",
              "      <td>3.300000</td>\n",
              "      <td>5.100000</td>\n",
              "      <td>1.800000</td>\n",
              "      <td>2.000000</td>\n",
              "    </tr>\n",
              "    <tr>\n",
              "      <th>max</th>\n",
              "      <td>7.900000</td>\n",
              "      <td>4.400000</td>\n",
              "      <td>6.900000</td>\n",
              "      <td>2.500000</td>\n",
              "      <td>2.000000</td>\n",
              "    </tr>\n",
              "  </tbody>\n",
              "</table>\n",
              "</div>"
            ],
            "text/plain": [
              "       sepal length (cm)  sepal width (cm)  ...  petal width (cm)      target\n",
              "count         150.000000        150.000000  ...        150.000000  150.000000\n",
              "mean            5.843333          3.057333  ...          1.199333    1.000000\n",
              "std             0.828066          0.435866  ...          0.762238    0.819232\n",
              "min             4.300000          2.000000  ...          0.100000    0.000000\n",
              "25%             5.100000          2.800000  ...          0.300000    0.000000\n",
              "50%             5.800000          3.000000  ...          1.300000    1.000000\n",
              "75%             6.400000          3.300000  ...          1.800000    2.000000\n",
              "max             7.900000          4.400000  ...          2.500000    2.000000\n",
              "\n",
              "[8 rows x 5 columns]"
            ]
          },
          "metadata": {
            "tags": []
          },
          "execution_count": 44
        }
      ]
    },
    {
      "cell_type": "markdown",
      "metadata": {
        "id": "6EgjEG93MwUg",
        "colab_type": "text"
      },
      "source": [
        "setosaに絞り込んで統計値を計算してみる"
      ]
    },
    {
      "cell_type": "code",
      "metadata": {
        "id": "DIOu5V_3M171",
        "colab_type": "code",
        "colab": {
          "base_uri": "https://localhost:8080/",
          "height": 314
        },
        "outputId": "138c8d50-bfff-4620-a8f1-d6addf99e653"
      },
      "source": [
        "# target列が0の行に絞り込む\n",
        "df_setosa = df_iris[df_iris.target == 0]\n",
        "\n",
        "# 絞り込んだ結果の統計値を計算する\n",
        "df_setosa.describe()"
      ],
      "execution_count": 47,
      "outputs": [
        {
          "output_type": "execute_result",
          "data": {
            "text/html": [
              "<div>\n",
              "<style scoped>\n",
              "    .dataframe tbody tr th:only-of-type {\n",
              "        vertical-align: middle;\n",
              "    }\n",
              "\n",
              "    .dataframe tbody tr th {\n",
              "        vertical-align: top;\n",
              "    }\n",
              "\n",
              "    .dataframe thead th {\n",
              "        text-align: right;\n",
              "    }\n",
              "</style>\n",
              "<table border=\"1\" class=\"dataframe\">\n",
              "  <thead>\n",
              "    <tr style=\"text-align: right;\">\n",
              "      <th></th>\n",
              "      <th>sepal length (cm)</th>\n",
              "      <th>sepal width (cm)</th>\n",
              "      <th>petal length (cm)</th>\n",
              "      <th>petal width (cm)</th>\n",
              "      <th>target</th>\n",
              "    </tr>\n",
              "  </thead>\n",
              "  <tbody>\n",
              "    <tr>\n",
              "      <th>count</th>\n",
              "      <td>50.00000</td>\n",
              "      <td>50.000000</td>\n",
              "      <td>50.000000</td>\n",
              "      <td>50.000000</td>\n",
              "      <td>50.0</td>\n",
              "    </tr>\n",
              "    <tr>\n",
              "      <th>mean</th>\n",
              "      <td>5.00600</td>\n",
              "      <td>3.428000</td>\n",
              "      <td>1.462000</td>\n",
              "      <td>0.246000</td>\n",
              "      <td>0.0</td>\n",
              "    </tr>\n",
              "    <tr>\n",
              "      <th>std</th>\n",
              "      <td>0.35249</td>\n",
              "      <td>0.379064</td>\n",
              "      <td>0.173664</td>\n",
              "      <td>0.105386</td>\n",
              "      <td>0.0</td>\n",
              "    </tr>\n",
              "    <tr>\n",
              "      <th>min</th>\n",
              "      <td>4.30000</td>\n",
              "      <td>2.300000</td>\n",
              "      <td>1.000000</td>\n",
              "      <td>0.100000</td>\n",
              "      <td>0.0</td>\n",
              "    </tr>\n",
              "    <tr>\n",
              "      <th>25%</th>\n",
              "      <td>4.80000</td>\n",
              "      <td>3.200000</td>\n",
              "      <td>1.400000</td>\n",
              "      <td>0.200000</td>\n",
              "      <td>0.0</td>\n",
              "    </tr>\n",
              "    <tr>\n",
              "      <th>50%</th>\n",
              "      <td>5.00000</td>\n",
              "      <td>3.400000</td>\n",
              "      <td>1.500000</td>\n",
              "      <td>0.200000</td>\n",
              "      <td>0.0</td>\n",
              "    </tr>\n",
              "    <tr>\n",
              "      <th>75%</th>\n",
              "      <td>5.20000</td>\n",
              "      <td>3.675000</td>\n",
              "      <td>1.575000</td>\n",
              "      <td>0.300000</td>\n",
              "      <td>0.0</td>\n",
              "    </tr>\n",
              "    <tr>\n",
              "      <th>max</th>\n",
              "      <td>5.80000</td>\n",
              "      <td>4.400000</td>\n",
              "      <td>1.900000</td>\n",
              "      <td>0.600000</td>\n",
              "      <td>0.0</td>\n",
              "    </tr>\n",
              "  </tbody>\n",
              "</table>\n",
              "</div>"
            ],
            "text/plain": [
              "       sepal length (cm)  sepal width (cm)  ...  petal width (cm)  target\n",
              "count           50.00000         50.000000  ...         50.000000    50.0\n",
              "mean             5.00600          3.428000  ...          0.246000     0.0\n",
              "std              0.35249          0.379064  ...          0.105386     0.0\n",
              "min              4.30000          2.300000  ...          0.100000     0.0\n",
              "25%              4.80000          3.200000  ...          0.200000     0.0\n",
              "50%              5.00000          3.400000  ...          0.200000     0.0\n",
              "75%              5.20000          3.675000  ...          0.300000     0.0\n",
              "max              5.80000          4.400000  ...          0.600000     0.0\n",
              "\n",
              "[8 rows x 5 columns]"
            ]
          },
          "metadata": {
            "tags": []
          },
          "execution_count": 47
        }
      ]
    },
    {
      "cell_type": "markdown",
      "metadata": {
        "id": "BnczYbZzNYth",
        "colab_type": "text"
      },
      "source": [
        "# 演習課題\n",
        "virginicaに絞り込んでから、統計値を計算するプログラムを作成せよ。"
      ]
    },
    {
      "cell_type": "code",
      "metadata": {
        "id": "s1UhWie6Nb1v",
        "colab_type": "code",
        "colab": {
          "base_uri": "https://localhost:8080/",
          "height": 314
        },
        "outputId": "095d0d46-7e89-42fd-d5fe-4672a1236be2"
      },
      "source": [
        "df_virginica = df_iris[iris.target == 1]\n",
        "df_virginica.describe()"
      ],
      "execution_count": 49,
      "outputs": [
        {
          "output_type": "execute_result",
          "data": {
            "text/html": [
              "<div>\n",
              "<style scoped>\n",
              "    .dataframe tbody tr th:only-of-type {\n",
              "        vertical-align: middle;\n",
              "    }\n",
              "\n",
              "    .dataframe tbody tr th {\n",
              "        vertical-align: top;\n",
              "    }\n",
              "\n",
              "    .dataframe thead th {\n",
              "        text-align: right;\n",
              "    }\n",
              "</style>\n",
              "<table border=\"1\" class=\"dataframe\">\n",
              "  <thead>\n",
              "    <tr style=\"text-align: right;\">\n",
              "      <th></th>\n",
              "      <th>sepal length (cm)</th>\n",
              "      <th>sepal width (cm)</th>\n",
              "      <th>petal length (cm)</th>\n",
              "      <th>petal width (cm)</th>\n",
              "      <th>target</th>\n",
              "    </tr>\n",
              "  </thead>\n",
              "  <tbody>\n",
              "    <tr>\n",
              "      <th>count</th>\n",
              "      <td>50.000000</td>\n",
              "      <td>50.000000</td>\n",
              "      <td>50.000000</td>\n",
              "      <td>50.000000</td>\n",
              "      <td>50.0</td>\n",
              "    </tr>\n",
              "    <tr>\n",
              "      <th>mean</th>\n",
              "      <td>5.936000</td>\n",
              "      <td>2.770000</td>\n",
              "      <td>4.260000</td>\n",
              "      <td>1.326000</td>\n",
              "      <td>1.0</td>\n",
              "    </tr>\n",
              "    <tr>\n",
              "      <th>std</th>\n",
              "      <td>0.516171</td>\n",
              "      <td>0.313798</td>\n",
              "      <td>0.469911</td>\n",
              "      <td>0.197753</td>\n",
              "      <td>0.0</td>\n",
              "    </tr>\n",
              "    <tr>\n",
              "      <th>min</th>\n",
              "      <td>4.900000</td>\n",
              "      <td>2.000000</td>\n",
              "      <td>3.000000</td>\n",
              "      <td>1.000000</td>\n",
              "      <td>1.0</td>\n",
              "    </tr>\n",
              "    <tr>\n",
              "      <th>25%</th>\n",
              "      <td>5.600000</td>\n",
              "      <td>2.525000</td>\n",
              "      <td>4.000000</td>\n",
              "      <td>1.200000</td>\n",
              "      <td>1.0</td>\n",
              "    </tr>\n",
              "    <tr>\n",
              "      <th>50%</th>\n",
              "      <td>5.900000</td>\n",
              "      <td>2.800000</td>\n",
              "      <td>4.350000</td>\n",
              "      <td>1.300000</td>\n",
              "      <td>1.0</td>\n",
              "    </tr>\n",
              "    <tr>\n",
              "      <th>75%</th>\n",
              "      <td>6.300000</td>\n",
              "      <td>3.000000</td>\n",
              "      <td>4.600000</td>\n",
              "      <td>1.500000</td>\n",
              "      <td>1.0</td>\n",
              "    </tr>\n",
              "    <tr>\n",
              "      <th>max</th>\n",
              "      <td>7.000000</td>\n",
              "      <td>3.400000</td>\n",
              "      <td>5.100000</td>\n",
              "      <td>1.800000</td>\n",
              "      <td>1.0</td>\n",
              "    </tr>\n",
              "  </tbody>\n",
              "</table>\n",
              "</div>"
            ],
            "text/plain": [
              "       sepal length (cm)  sepal width (cm)  ...  petal width (cm)  target\n",
              "count          50.000000         50.000000  ...         50.000000    50.0\n",
              "mean            5.936000          2.770000  ...          1.326000     1.0\n",
              "std             0.516171          0.313798  ...          0.197753     0.0\n",
              "min             4.900000          2.000000  ...          1.000000     1.0\n",
              "25%             5.600000          2.525000  ...          1.200000     1.0\n",
              "50%             5.900000          2.800000  ...          1.300000     1.0\n",
              "75%             6.300000          3.000000  ...          1.500000     1.0\n",
              "max             7.000000          3.400000  ...          1.800000     1.0\n",
              "\n",
              "[8 rows x 5 columns]"
            ]
          },
          "metadata": {
            "tags": []
          },
          "execution_count": 49
        }
      ]
    },
    {
      "cell_type": "markdown",
      "metadata": {
        "id": "EJkHX5ZSN4dF",
        "colab_type": "text"
      },
      "source": [
        "# pandasを使ったCSVの読み込み"
      ]
    },
    {
      "cell_type": "code",
      "metadata": {
        "id": "42hxJ54cOIkx",
        "colab_type": "code",
        "colab": {}
      },
      "source": [
        "import pandas as pd\n",
        "\n",
        "url = 'csvファイルのURL'\n",
        "df = pd.read_csv(url, encoding='SHIFT-JIS or UTF8')\n",
        "\n",
        "# dfを表示する\n",
        "df"
      ],
      "execution_count": 0,
      "outputs": []
    },
    {
      "cell_type": "code",
      "metadata": {
        "id": "P5KuDbM7OXsA",
        "colab_type": "code",
        "colab": {}
      },
      "source": [
        ""
      ],
      "execution_count": 0,
      "outputs": []
    }
  ]
}